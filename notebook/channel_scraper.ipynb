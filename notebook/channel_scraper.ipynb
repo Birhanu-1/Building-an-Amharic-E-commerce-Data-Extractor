{
 "cells": [
  {
   "cell_type": "code",
   "execution_count": 20,
   "id": "4e6f4c95-5a17-4361-b1a4-a70425907d1c",
   "metadata": {},
   "outputs": [],
   "source": [
    "import os\n",
    "import csv\n",
    "import asyncio\n",
    "from dotenv import load_dotenv\n",
    "from telethon import TelegramClient\n",
    "from telethon.tl.types import MessageMediaPhoto\n",
    "import nest_asyncio"
   ]
  },
  {
   "cell_type": "code",
   "execution_count": null,
   "id": "8535254e-7156-4ef0-8325-6c2ced57f24b",
   "metadata": {},
   "outputs": [],
   "source": [
    "# Allow nested asyncio loops (needed for Jupyter/IPython)\n",
    "nest_asyncio.apply()\n",
    "\n",
    "# Load environment variables\n",
    "load_dotenv('../.env')\n",
    "api_id = int(os.getenv('TG_API_ID'))\n",
    "api_hash = os.getenv('TG_API_HASH')\n",
    "\n",
    "client = TelegramClient('scraping_session', api_id, api_hash)\n",
    "\n",
    "async def scrape_channel(client, channel_username, writer, media_dir):\n",
    "    entity = await client.get_entity(channel_username)\n",
    "    channel_title = entity.title\n",
    "\n",
    "    async for message in client.iter_messages(entity, limit=10000):\n",
    "        media_path = None\n",
    "        if message.media and isinstance(message.media, MessageMediaPhoto):\n",
    "            filename = f\"{channel_username}_{message.id}.jpg\"\n",
    "            media_path = os.path.join(media_dir, filename)\n",
    "            await client.download_media(message.media, media_path)\n",
    "\n",
    "        message_text = message.message or ''\n",
    "        message_date = message.date.strftime('%Y-%m-%d %H:%M:%S') if message.date else ''\n",
    "\n",
    "        writer.writerow([channel_title, channel_username, message.id, message_text, message_date, media_path])\n",
    "\n",
    "async def main():\n",
    "    await client.start()\n",
    "\n",
    "    media_dir = '../data1/photos'\n",
    "    os.makedirs(media_dir, exist_ok=True)\n",
    "\n",
    "    with open('../data1/telegram_data.csv', 'w', newline='', encoding='utf-8') as file:\n",
    "        writer = csv.writer(file)\n",
    "        writer.writerow(['Channel Title', 'Channel Username', 'ID', 'Message', 'Date', 'Media Path'])\n",
    "\n",
    "        channels = ['@MerttEka','@aradabrand2','@belaclassic','@marakisat2', '@kuruwear']\n",
    "        success_count = 0\n",
    "        for channel in channels:\n",
    "            try:\n",
    "                print(f\"Scraping {channel} ...\")\n",
    "                await scrape_channel(client, channel, writer, media_dir)\n",
    "                success_count += 1\n",
    "                print(f\"Done: {channel}\")\n",
    "            except Exception as e:\n",
    "                print(f\"Failed: {channel} — {e}\")\n",
    "        print(f\"\\n🔎 Total channels scraped: {success_count}/{len(channels)}\")\n",
    "\n",
    "\n",
    "async def run():\n",
    "    async with client:\n",
    "        await main()\n",
    "\n",
    "# Run the scraper inside the running event loop (Jupyter friendly)\n",
    "await run()"
   ]
  },
  {
   "cell_type": "code",
   "execution_count": null,
   "id": "2961b0db-1dbe-4e75-8407-509464446867",
   "metadata": {},
   "outputs": [],
   "source": []
  }
 ],
 "metadata": {
  "kernelspec": {
   "display_name": "Python 3 (ipykernel)",
   "language": "python",
   "name": "python3"
  },
  "language_info": {
   "codemirror_mode": {
    "name": "ipython",
    "version": 3
   },
   "file_extension": ".py",
   "mimetype": "text/x-python",
   "name": "python",
   "nbconvert_exporter": "python",
   "pygments_lexer": "ipython3",
   "version": "3.13.2"
  }
 },
 "nbformat": 4,
 "nbformat_minor": 5
}
