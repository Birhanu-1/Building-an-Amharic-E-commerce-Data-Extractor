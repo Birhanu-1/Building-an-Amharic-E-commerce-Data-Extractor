{
 "cells": [
  {
   "cell_type": "code",
   "execution_count": 1,
   "id": "59b23b8c-10b9-44ec-8acd-14171b69b5df",
   "metadata": {},
   "outputs": [],
   "source": [
    "# Task 6: FinTech Vendor Scorecard for Micro-Lending (Local Data)\n",
    "\n",
    "import pandas as pd\n",
    "from datetime import datetime\n",
    "from collections import defaultdict\n",
    "import json\n",
    "import os"
   ]
  },
  {
   "cell_type": "code",
   "execution_count": 4,
   "id": "15e42339-d299-4f5b-b0b2-1b425dadd1f1",
   "metadata": {},
   "outputs": [
    {
     "name": "stdout",
     "output_type": "stream",
     "text": [
      "\n",
      "Vendor Scorecard:\n",
      "          Vendor ID  Avg Views/Post  Posts/Week  Avg Price (ETB)  \\\n",
      "0  AwasMart-አዋስማርት🎁          7508.1        37.3           366.34   \n",
      "\n",
      "   Lending Score  \n",
      "0        4127.01  \n"
     ]
    }
   ],
   "source": [
    "# 1. Load scraped local vendor posts data from CSV\n",
    "vendor_df = pd.read_csv(\"../data1/telegram_data.csv\")\n",
    "\n",
    "\n",
    "# Rename and normalize columns to expected format\n",
    "vendor_df.rename(columns={\n",
    "    'Channel Title': 'vendor_id',\n",
    "    'Message': 'text',\n",
    "    'Date': 'timestamp',\n",
    "    'ID': 'views'  # Assuming ID column actually holds view counts; update this if wrong\n",
    "}, inplace=True)\n",
    "\n",
    "# Drop rows with missing essential data\n",
    "vendor_df.dropna(subset=['vendor_id', 'text', 'timestamp'], inplace=True)\n",
    "\n",
    "# 2. Extract price from text using simple regex (customize this if you have NER outputs)\n",
    "def extract_price(text):\n",
    "    import re\n",
    "    matches = re.findall(r\"\\d+\", str(text))\n",
    "    prices = [int(m) for m in matches if 5 < int(m) < 5000]\n",
    "    return prices[0] if prices else None\n",
    "\n",
    "# 3. Function to compute vendor metrics\n",
    "def calculate_vendor_metrics(df):\n",
    "    df['timestamp'] = pd.to_datetime(df['timestamp'])\n",
    "    df['week'] = df['timestamp'].dt.to_period('W')\n",
    "\n",
    "    posts_per_week = df.groupby('week').size().mean()\n",
    "    avg_views = df['views'].mean()\n",
    "\n",
    "    top_post = df.loc[df['views'].idxmax()]\n",
    "    top_post_text = top_post['text']\n",
    "    top_post_views = top_post['views']\n",
    "    top_post_price = extract_price(top_post_text)\n",
    "\n",
    "    df['price'] = df['text'].apply(extract_price)\n",
    "    avg_price = df['price'].dropna().mean()\n",
    "\n",
    "    lending_score = (avg_views * 0.5) + (posts_per_week * 10)\n",
    "\n",
    "    return {\n",
    "        \"Avg Views/Post\": round(avg_views, 2),\n",
    "        \"Posts/Week\": round(posts_per_week, 2),\n",
    "        \"Avg Price (ETB)\": round(avg_price, 2) if pd.notnull(avg_price) else None,\n",
    "        \"Top Product\": top_post_text,\n",
    "        \"Top Views\": top_post_views,\n",
    "        \"Top Price\": top_post_price,\n",
    "        \"Lending Score\": round(lending_score, 2)\n",
    "    }\n",
    "\n",
    "# 4. Process all vendors\n",
    "grouped = vendor_df.groupby(\"vendor_id\")\n",
    "summary_data = []\n",
    "for vendor_id, group in grouped:\n",
    "    metrics = calculate_vendor_metrics(group)\n",
    "    metrics[\"Vendor ID\"] = vendor_id\n",
    "    summary_data.append(metrics)\n",
    "\n",
    "# 5. Show results\n",
    "scorecard_df = pd.DataFrame(summary_data)\n",
    "print(\"\\nVendor Scorecard:\")\n",
    "print(scorecard_df[[\"Vendor ID\", \"Avg Views/Post\", \"Posts/Week\", \"Avg Price (ETB)\", \"Lending Score\"]])\n"
   ]
  },
  {
   "cell_type": "code",
   "execution_count": null,
   "id": "87acaff4-0788-42fc-8e06-cf6aefc9ad2d",
   "metadata": {},
   "outputs": [],
   "source": []
  }
 ],
 "metadata": {
  "kernelspec": {
   "display_name": "Python 3 (ipykernel)",
   "language": "python",
   "name": "python3"
  },
  "language_info": {
   "codemirror_mode": {
    "name": "ipython",
    "version": 3
   },
   "file_extension": ".py",
   "mimetype": "text/x-python",
   "name": "python",
   "nbconvert_exporter": "python",
   "pygments_lexer": "ipython3",
   "version": "3.13.2"
  }
 },
 "nbformat": 4,
 "nbformat_minor": 5
}
