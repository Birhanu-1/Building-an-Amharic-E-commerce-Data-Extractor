{
 "cells": [
  {
   "cell_type": "code",
   "execution_count": 15,
   "id": "f6456ef0-6ff3-4aed-a05e-5660b7547770",
   "metadata": {},
   "outputs": [],
   "source": [
    "import pandas as pd\n",
    "from datasets import Dataset\n",
    "from transformers import (\n",
    "    AutoTokenizer,\n",
    "    AutoModelForTokenClassification,\n",
    "    DataCollatorForTokenClassification,\n",
    "    TrainingArguments,\n",
    "    Trainer\n",
    ")\n",
    "import numpy as np\n",
    "import evaluate"
   ]
  },
  {
   "cell_type": "code",
   "execution_count": 17,
   "id": "2204f758-1240-454c-adae-4539cca5f619",
   "metadata": {},
   "outputs": [
    {
     "name": "stderr",
     "output_type": "stream",
     "text": [
      "Some weights of XLMRobertaForTokenClassification were not initialized from the model checkpoint at masakhane/afroxlmr-large-ner-masakhaner-1.0_2.0 and are newly initialized because the shapes did not match:\n",
      "- classifier.bias: found shape torch.Size([9]) in the checkpoint and torch.Size([114]) in the model instantiated\n",
      "- classifier.weight: found shape torch.Size([9, 1024]) in the checkpoint and torch.Size([114, 1024]) in the model instantiated\n",
      "You should probably TRAIN this model on a down-stream task to be able to use it for predictions and inference.\n"
     ]
    },
    {
     "data": {
      "application/vnd.jupyter.widget-view+json": {
       "model_id": "8cd041d2338641dc81ca325a9b7394da",
       "version_major": 2,
       "version_minor": 0
      },
      "text/plain": [
       "Map:   0%|          | 0/1 [00:00<?, ? examples/s]"
      ]
     },
     "metadata": {},
     "output_type": "display_data"
    },
    {
     "name": "stderr",
     "output_type": "stream",
     "text": [
      "C:\\Users\\user\\AppData\\Local\\Temp\\ipykernel_1036\\492320412.py:103: FutureWarning: `tokenizer` is deprecated and will be removed in version 5.0.0 for `Trainer.__init__`. Use `processing_class` instead.\n",
      "  trainer = Trainer(\n",
      "C:\\Users\\user\\miniconda4\\Lib\\site-packages\\torch\\utils\\data\\dataloader.py:665: UserWarning: 'pin_memory' argument is set as true but no accelerator is found, then device pinned memory won't be used.\n",
      "  warnings.warn(warn_msg)\n"
     ]
    },
    {
     "data": {
      "text/html": [
       "\n",
       "    <div>\n",
       "      \n",
       "      <progress value='3' max='3' style='width:300px; height:20px; vertical-align: middle;'></progress>\n",
       "      [3/3 01:22, Epoch 3/3]\n",
       "    </div>\n",
       "    <table border=\"1\" class=\"dataframe\">\n",
       "  <thead>\n",
       " <tr style=\"text-align: left;\">\n",
       "      <th>Step</th>\n",
       "      <th>Training Loss</th>\n",
       "    </tr>\n",
       "  </thead>\n",
       "  <tbody>\n",
       "  </tbody>\n",
       "</table><p>"
      ],
      "text/plain": [
       "<IPython.core.display.HTML object>"
      ]
     },
     "metadata": {},
     "output_type": "display_data"
    },
    {
     "name": "stdout",
     "output_type": "stream",
     "text": [
      "Labels: ['0', '1', '1,000', '1,100', '1,200', '1,250', '1,300', '1,400', '1,500', '1,600', '1,700', '1,800', '1,900', '1.8', '1.80', '10', '100', '101', '12', '13', '138', '15', '150', '16', '175', '18', '180', '2', '2,000', '2,100', '2,200', '2,300', '2,400', '2,500', '2,600', '2,700', '2,800', '2,900', '2.0', '200', '22', '220', '250', '3', '3,000', '3,200', '3,300', '3,400', '3,500', '3,600', '3,700', '30', '300', '304', '330', '350', '36', '360', '4', '4,000', '4,300', '4,500', '4,600', '4,700', '4,900', '400', '420', '450', '47', '49', '5', '5,200', '5,500', '50', '500', '54', '550', '6', '6,500', '6,800', '600', '650', '7', '7,200', '70', '700', '750', '780', '8', '8,800', '800', '850', '9', '900', 'All', 'Dimensions', 'Dry', 'GEESSAN', 'Grinder', 'Kel', 'Light', 'N/A', 'O', 'Rack', 'Relief', 'Saachi', 'Sticker', 'Training', 'basket', 'dust', 'pan', 'protection', 'stop', 'ዋጋ፦']\n",
      "Number of labels: 114\n"
     ]
    }
   ],
   "source": [
    "# 3. Load Labeled Dataset from Local CoNLL File\n",
    "# Expected CoNLL format: token<TAB>label, with empty lines separating sentences\n",
    "\n",
    "def read_conll(filepath):\n",
    "    sentences, labels = [], []\n",
    "    with open(filepath, encoding='utf-8') as f:\n",
    "        tokens, tags = [], []\n",
    "        for line in f:\n",
    "            line = line.strip()\n",
    "            if not line:\n",
    "                if tokens:\n",
    "                    sentences.append(tokens)\n",
    "                    labels.append(tags)\n",
    "                    tokens, tags = [], []\n",
    "                continue\n",
    "            token, tag = line.split()\n",
    "            tokens.append(token)\n",
    "            tags.append(tag)\n",
    "        if tokens:\n",
    "            sentences.append(tokens)\n",
    "            labels.append(tags)\n",
    "    return sentences, labels\n",
    "\n",
    "sentences, tags = read_conll(\"../data1/amharic_ner_data_conll.txt\")\n",
    "\n",
    "# 4. Automatically extract unique labels from the dataset\n",
    "unique_tags = sorted(set(tag for doc in tags for tag in doc))\n",
    "label_list = unique_tags\n",
    "label_to_id = {l: i for i, l in enumerate(label_list)}\n",
    "id_to_label = {i: l for l, i in label_to_id.items()}\n",
    "\n",
    "# 5. Convert string tags to their corresponding IDs\n",
    "tag_ids = [[label_to_id[tag] for tag in doc] for doc in tags]\n",
    "\n",
    "# 6. Create Hugging Face Dataset object\n",
    "data = {\"tokens\": sentences, \"ner_tags\": tag_ids}\n",
    "dataset = Dataset.from_dict(data)\n",
    "\n",
    "# 7. Load Pretrained Multilingual Model and Tokenizer\n",
    "model_checkpoint = \"masakhane/afroxlmr-large-ner-masakhaner-1.0_2.0\"\n",
    "tokenizer = AutoTokenizer.from_pretrained(model_checkpoint)\n",
    "model = AutoModelForTokenClassification.from_pretrained(\n",
    "    model_checkpoint,\n",
    "    num_labels=len(label_list),\n",
    "    ignore_mismatched_sizes=True  # Important to reinitialize classification head\n",
    ")\n",
    "\n",
    "# 8. Tokenize and Align Labels with Tokens\n",
    "def tokenize_and_align_labels(example):\n",
    "    tokenized = tokenizer(example['tokens'], truncation=True, is_split_into_words=True)\n",
    "    word_ids = tokenized.word_ids()\n",
    "    aligned_labels = []\n",
    "    previous_word_idx = None\n",
    "    for word_idx in word_ids:\n",
    "        if word_idx is None:\n",
    "            aligned_labels.append(-100)  # Special token or padding\n",
    "        elif word_idx != previous_word_idx:\n",
    "            aligned_labels.append(example['ner_tags'][word_idx])\n",
    "        else:\n",
    "            # For wordpieces, you can choose to assign the same label or -100 to ignore\n",
    "            aligned_labels.append(example['ner_tags'][word_idx])\n",
    "        previous_word_idx = word_idx\n",
    "    tokenized['labels'] = aligned_labels\n",
    "    return tokenized\n",
    "\n",
    "tokenized_dataset = dataset.map(tokenize_and_align_labels, batched=False)\n",
    "\n",
    "# 9. Training Configuration\n",
    "args = TrainingArguments(\n",
    "    output_dir=\"../data1/amharic-ner-model\",\n",
    "    #evaluation_strategy=\"epoch\",\n",
    "    learning_rate=2e-5,\n",
    "    per_device_train_batch_size=4,\n",
    "    per_device_eval_batch_size=4,\n",
    "    num_train_epochs=3,\n",
    "    weight_decay=0.01,\n",
    "    logging_dir=\"./logs\"\n",
    ")\n",
    "\n",
    "# 10. Load Metric\n",
    "metric = evaluate.load(\"seqeval\")\n",
    "\n",
    "def compute_metrics(p):\n",
    "    predictions, labels = p\n",
    "    predictions = np.argmax(predictions, axis=2)\n",
    "    true_predictions = [\n",
    "        [id_to_label[p] for (p, l) in zip(pred, label) if l != -100]\n",
    "        for pred, label in zip(predictions, labels)\n",
    "    ]\n",
    "    true_labels = [\n",
    "        [id_to_label[l] for (p, l) in zip(pred, label) if l != -100]\n",
    "        for pred, label in zip(predictions, labels)\n",
    "    ]\n",
    "    results = metric.compute(predictions=true_predictions, references=true_labels)\n",
    "    return {\n",
    "        \"precision\": results[\"overall_precision\"],\n",
    "        \"recall\": results[\"overall_recall\"],\n",
    "        \"f1\": results[\"overall_f1\"],\n",
    "        \"accuracy\": results[\"overall_accuracy\"]\n",
    "    }\n",
    "\n",
    "# 11. Initialize Trainer and Train\n",
    "trainer = Trainer(\n",
    "    model=model,\n",
    "    args=args,\n",
    "    train_dataset=tokenized_dataset,\n",
    "    eval_dataset=tokenized_dataset,\n",
    "    tokenizer=tokenizer,\n",
    "    data_collator=DataCollatorForTokenClassification(tokenizer),\n",
    "    compute_metrics=compute_metrics\n",
    ")\n",
    "\n",
    "trainer.train()\n",
    "\n",
    "# 12. Save Final Model and Tokenizer\n",
    "trainer.save_model(\"../data1/amharic-ner-model\")\n",
    "tokenizer.save_pretrained(\"../data1/amharic-ner-model\")\n",
    "\n",
    "# 13. Optional: Check label info\n",
    "print(f\"Labels: {label_list}\")\n",
    "print(f\"Number of labels: {len(label_list)}\")"
   ]
  },
  {
   "cell_type": "code",
   "execution_count": 13,
   "id": "e81899b3-4a0b-4681-b5a5-0290d4ae7fd5",
   "metadata": {},
   "outputs": [
    {
     "name": "stdout",
     "output_type": "stream",
     "text": [
      "{'O': 0, 'B-PER': 1, 'I-PER': 2, 'B-LOC': 3}\n"
     ]
    }
   ],
   "source": [
    "print(label_to_id)\n"
   ]
  },
  {
   "cell_type": "code",
   "execution_count": null,
   "id": "20611de3-7fb3-4472-8188-12144109b5db",
   "metadata": {},
   "outputs": [],
   "source": []
  }
 ],
 "metadata": {
  "kernelspec": {
   "display_name": "Python 3 (ipykernel)",
   "language": "python",
   "name": "python3"
  },
  "language_info": {
   "codemirror_mode": {
    "name": "ipython",
    "version": 3
   },
   "file_extension": ".py",
   "mimetype": "text/x-python",
   "name": "python",
   "nbconvert_exporter": "python",
   "pygments_lexer": "ipython3",
   "version": "3.13.2"
  }
 },
 "nbformat": 4,
 "nbformat_minor": 5
}
