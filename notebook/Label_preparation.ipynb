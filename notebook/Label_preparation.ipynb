{
 "cells": [
  {
   "cell_type": "code",
   "execution_count": null,
   "id": "025593ae",
   "metadata": {},
   "outputs": [],
   "source": [
    "\"\"\"\n",
    "This notebook prepares scraped Telegram message data for Named Entity Recognition (NER).\n",
    "\n",
    "Steps covered:\n",
    "1. Load preprocessed message CSV\n",
    "2. Clean Amharic text (remove emojis, punctuation, normalize whitespace)\n",
    "3. Tokenize sentences into words\n",
    "4. Add metadata (message ID and timestamp)\n",
    "5. Output the cleaned data to a new CSV file"
   ]
  },
  {
   "cell_type": "code",
   "execution_count": 2,
   "id": "75859ed7-a0fd-43c5-95c3-b4976b8120e9",
   "metadata": {},
   "outputs": [],
   "source": [
    "import re\n",
    "import pandas as pd"
   ]
  },
  {
   "cell_type": "code",
   "execution_count": null,
   "id": "3c35be11",
   "metadata": {},
   "outputs": [],
   "source": [
    "# --- Step 1: Load raw Telegram scraped data ---\n",
    "# Load cleaned message text from earlier ingestion/preprocessing phase\n",
    "# 'message_id' is assumed to be a unique identifier per Telegram message"
   ]
  },
  {
   "cell_type": "code",
   "execution_count": 6,
   "id": "755d155a-a7f9-4cce-bd77-e4ec14ecb5a2",
   "metadata": {},
   "outputs": [
    {
     "name": "stdout",
     "output_type": "stream",
     "text": [
      "Labeled messages saved to ../data1/labeled_telegram_messages.txt\n"
     ]
    }
   ],
   "source": [
    "def extract_product_price_location(text):\n",
    "    # Convert to string safely (handle NaN or missing)\n",
    "    if not isinstance(text, str):\n",
    "        text = ''  # or str(text) if you want\n",
    "    \n",
    "    price_pattern = r'(\\b\\d{1,3}(?:,\\d{3})*(?:\\.\\d+)?\\s*(?:ETB|birr|\\$|USD)?\\b)'\n",
    "    location_pattern = r'(?:in|at|from|located in|from)\\s+([A-Z][a-zA-Z\\s]+)'\n",
    "    \n",
    "    price_match = re.search(price_pattern, text, re.IGNORECASE)\n",
    "    location_match = re.search(location_pattern, text, re.IGNORECASE)\n",
    "    \n",
    "    price = price_match.group(1).strip() if price_match else \"N/A\"\n",
    "    location = location_match.group(1).strip() if location_match else \"N/A\"\n",
    "    \n",
    "    cutoffs = []\n",
    "    if price_match:\n",
    "        cutoffs.append(price_match.start())\n",
    "    if location_match:\n",
    "        cutoffs.append(location_match.start())\n",
    "    cutoff = min(cutoffs) if cutoffs else len(text)\n",
    "    \n",
    "    product = text[:cutoff].strip()\n",
    "    \n",
    "    return product, price, location\n",
    "\n",
    "def process_telegram_data_and_save_txt(input_csv, output_txt, text_column='clean_text'):\n",
    "    df = pd.read_csv(input_csv)\n",
    "    \n",
    "    # Fill NaN in text column with empty string to avoid errors\n",
    "    df[text_column] = df[text_column].fillna('')\n",
    "    \n",
    "    extracted = df[text_column].apply(extract_product_price_location)\n",
    "    df[['product', 'price', 'location']] = pd.DataFrame(extracted.tolist(), index=df.index)\n",
    "    \n",
    "    with open(output_txt, 'w', encoding='utf-8') as f:\n",
    "        for idx, row in df.iterrows():\n",
    "            f.write(f\"Message: {row[text_column]}\\n\")\n",
    "            f.write(f\"Product: {row['product']}\\n\")\n",
    "            f.write(f\"Price: {row['price']}\\n\")\n",
    "            f.write(f\"Location: {row['location']}\\n\")\n",
    "            f.write(\"-\" * 40 + \"\\n\")\n",
    "    \n",
    "    print(f\"Labeled messages saved to {output_txt}\")\n",
    "\n",
    "# Example usage\n",
    "if __name__ == '__main__':\n",
    "    input_file = '../data1/preprocessed_telegram_data.csv'\n",
    "    output_file = '../data1/labeled_telegram_messages.txt'\n",
    "    \n",
    "    process_telegram_data_and_save_txt(input_file, output_file)"
   ]
  },
  {
   "cell_type": "code",
   "execution_count": null,
   "id": "0134e88e-f05c-430f-9d39-82e800dc1943",
   "metadata": {},
   "outputs": [],
   "source": []
  }
 ],
 "metadata": {
  "kernelspec": {
   "display_name": "Python 3 (ipykernel)",
   "language": "python",
   "name": "python3"
  },
  "language_info": {
   "codemirror_mode": {
    "name": "ipython",
    "version": 3
   },
   "file_extension": ".py",
   "mimetype": "text/x-python",
   "name": "python",
   "nbconvert_exporter": "python",
   "pygments_lexer": "ipython3",
   "version": "3.13.2"
  }
 },
 "nbformat": 4,
 "nbformat_minor": 5
}
